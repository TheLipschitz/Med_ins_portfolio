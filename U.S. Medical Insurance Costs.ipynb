{
 "cells": [
  {
   "cell_type": "markdown",
   "metadata": {},
   "source": [
    "# U.S. Medical Insurance Costs\n",
    "\n",
    "In this project, I will be importing and analyzing data from a given CSV file of medical insurance data. I will use the Pandas module to create and manipulate a dataframe from the CSV."
   ]
  },
  {
   "cell_type": "code",
   "execution_count": 1,
   "metadata": {},
   "outputs": [],
   "source": [
    "import pandas as pd\n",
    "import numpy as np"
   ]
  },
  {
   "cell_type": "markdown",
   "metadata": {},
   "source": [
    "Upon data inspection, the attributes of the columns are:\n",
    "* age is an int\n",
    "* sex is 'male' or 'female'\n",
    "* bmi is a float\n",
    "* children is an int\n",
    "* smoker is 'yes' or 'no'\n",
    "* region has 4 options: (north/south)(east/west)\n",
    "* charges is a float, and not rounded to an even cent\n",
    "    \n",
    "The next step is to import the csv as a dataframe and make sure that it loaded in as intended by using the '.head()' method."
   ]
  },
  {
   "cell_type": "code",
   "execution_count": 2,
   "metadata": {},
   "outputs": [
    {
     "name": "stdout",
     "output_type": "stream",
     "text": [
      "   age     sex     bmi  children smoker     region      charges\n",
      "0   19  female  27.900         0    yes  southwest  16884.92400\n",
      "1   18    male  33.770         1     no  southeast   1725.55230\n",
      "2   28    male  33.000         3     no  southeast   4449.46200\n",
      "3   33    male  22.705         0     no  northwest  21984.47061\n",
      "4   32    male  28.880         0     no  northwest   3866.85520\n",
      "5   31  female  25.740         0     no  southeast   3756.62160\n",
      "6   46  female  33.440         1     no  southeast   8240.58960\n",
      "7   37  female  27.740         3     no  northwest   7281.50560\n",
      "8   37    male  29.830         2     no  northeast   6406.41070\n",
      "9   60  female  25.840         0     no  northwest  28923.13692\n"
     ]
    }
   ],
   "source": [
    "imported = pd.read_csv('insurance.csv')\n",
    "print(imported.head(10))"
   ]
  },
  {
   "cell_type": "markdown",
   "metadata": {},
   "source": [
    "Now that we have the data imported into a usable format, we can start thinking about what type of things we would like to know.\n",
    "Some insights we can gain from this data are:\n",
    "* The average age of the patients\n",
    "* A percentage of male vs female\n",
    "* If there is a correlation between number of children and BMI\n",
    "* If there is a correlation between smoking and BMI\n",
    "* Differences in charges for the different regions\n",
    "* What are the most significant drivers of cost\n",
    "\n",
    "To do this, we will create a MedicalData class as a subclass of pandas.DataFrame that has methods to accomplish these tasks."
   ]
  },
  {
   "cell_type": "code",
   "execution_count": 3,
   "metadata": {},
   "outputs": [],
   "source": [
    "class MedicalData(pd.DataFrame):\n",
    "    def average_age(self):\n",
    "#         Aquire the mean through parent class method and then prints a formatted string with the average age.\n",
    "        avg = self.age.mean()\n",
    "        print(f'The average age of all patients in the dataset is {avg:.2f}.\\n')\n",
    "        \n",
    "    def male_female(self):\n",
    "#         Divide the data into two new dataframes, one for each gender represented\n",
    "        male_df = self[self.sex == 'male']\n",
    "        female_df = self[self.sex == 'female']\n",
    "        \n",
    "#         Calculate and print the percentages of representation\n",
    "        num_m = male_df.sex.count()\n",
    "        num_f = female_df.sex.count()\n",
    "        percent_m = num_m / (num_m + num_f) * 100\n",
    "        percent_f = 100 - percent_m\n",
    "        \n",
    "        print(f'The dataset is divided into {percent_m:.1f}% male patients'\n",
    "              f' and {percent_f:.1f}% female patients.\\n')\n",
    "        \n",
    "#         Create another dataframe showing average statistics among men and women and prints formatted tables\n",
    "        male_avgs = male_df.mean()\n",
    "        female_avgs = female_df.mean()\n",
    "        \n",
    "        print('Average age, BMI, number of children, and insurance charges by sex:\\n')\n",
    "        print(f'Male:\\n'\n",
    "              f'Age: {male_avgs.age:.2f}\\n'\n",
    "              f'BMI: {male_avgs.bmi:.2f}\\n'\n",
    "              f'Number of Children: {male_avgs.children:.2f}\\n'\n",
    "              f'Insurance Charges: ${male_avgs.charges:.2f}\\n')\n",
    "        print(f'Female:\\n'\n",
    "              f'Age: {female_avgs.age:.2f}\\n'\n",
    "              f'BMI: {female_avgs.bmi:.2f}\\n'\n",
    "              f'Number of Children: {female_avgs.children:.2f}\\n'\n",
    "              f'Insurance Charges: ${female_avgs.charges:.2f}\\n')\n",
    "    \n",
    "    \n",
    "    def children_to_bmi(self):\n",
    "#         Create a dataframe of the average BMI grouped by the number of children the patient has\n",
    "        c_to_bmi = self.groupby('children').bmi.mean().reset_index()\n",
    "        \n",
    "#         Round the BMI averages to 2 places and reformat the columns for better readability, and then print\n",
    "        c_to_bmi.bmi = c_to_bmi.bmi.apply(lambda x: round(x, 2))\n",
    "        c_to_bmi.columns = ['No. of Children', 'Average BMI']\n",
    "        \n",
    "        print(c_to_bmi.to_string(index=False), end='\\n\\n')\n",
    "        \n",
    "    \n",
    "    def cost_by_region(self):\n",
    "#         Create a dataframe of averge cost organized by region\n",
    "        c_by_reg = self.groupby('region').charges.mean().reset_index()\n",
    "        \n",
    "#         Reformat column names and print \n",
    "        c_by_reg.charges = c_by_reg.charges.apply(lambda x: ''.join(['$',str(round(x, 2))]))\n",
    "        c_by_reg.region = c_by_reg.region.apply(lambda x: x.title())\n",
    "        c_by_reg.columns = ['Region', 'Average Charges']\n",
    "        \n",
    "        print(c_by_reg.to_string(index=False), end='\\n\\n')\n",
    "        \n",
    "    def make_percentage(self, percent):\n",
    "        return ''.join([str(percent), '%'])\n",
    "        \n",
    "    def age_groups(self, age):\n",
    "#         A helper function to group patients by age\n",
    "        if age < 25:\n",
    "            group = '18 - 24'\n",
    "        elif age < 35:\n",
    "            group = '25 - 34'\n",
    "        elif age < 45:\n",
    "            group = '35 - 44'\n",
    "        elif age < 55:\n",
    "            group = '45 - 54'\n",
    "        else:\n",
    "            group = '55+'\n",
    "        \n",
    "        return group\n",
    "        \n",
    "    def age_above_median(self):\n",
    "#         Add a column with age group using helper function and create new dataframe grouped by age group\n",
    "#           and if the charges are above the median\n",
    "        self['age_group'] = self.age.apply(self.age_groups)\n",
    "        age_as_factor = self.groupby(['age_group', 'above_median']).age.count().reset_index(name='count')\n",
    "#         Create pivot table, convert raw counts to percentages, and change column names for readability\n",
    "        age_pivot = age_as_factor.pivot(columns='above_median', index='age_group', values='count').reset_index().fillna(0)\n",
    "        age_pivot[False] = round(age_pivot[False] / (age_pivot[False] + age_pivot[True]) * 100, 1)\n",
    "        age_pivot[True] = round(100 - age_pivot[False], 1)\n",
    "        age_pivot[False] = age_pivot[False].apply(self.make_percentage)\n",
    "        age_pivot[True] = age_pivot[True].apply(self.make_percentage)\n",
    "        age_pivot.columns = ['Age Group', ' Below Median', ' Above Median' ]\n",
    "        \n",
    "        print(age_pivot.to_string(index=False), end='\\n\\n')\n",
    "        \n",
    "    def sex_above_median(self):\n",
    "#         Create new dataframe grouped by sex and if the charges are above the median\n",
    "        sex_as_factor = self.groupby(['sex', 'above_median']).age.count().reset_index(name='count')\n",
    "#         Create pivot table, convert raw counts to percentages, and change column names for readability\n",
    "        sex_pivot = sex_as_factor.pivot(columns='above_median', index='sex', values='count').reset_index().fillna(0)\n",
    "        sex_pivot[False] = round(sex_pivot[False] / (sex_pivot[False] + sex_pivot[True]) * 100, 1)\n",
    "        sex_pivot[True] = round(100 - sex_pivot[False], 1)\n",
    "        sex_pivot[False] = sex_pivot[False].apply(self.make_percentage)\n",
    "        sex_pivot[True] = sex_pivot[True].apply(self.make_percentage)\n",
    "        sex_pivot['sex'] = sex_pivot['sex'].apply(lambda x: x.title())\n",
    "        sex_pivot.columns = ['Sex', ' Below Median', ' Above Median' ]\n",
    "        \n",
    "        print(sex_pivot.to_string(index=False), end='\\n\\n')\n",
    "        \n",
    "    def bmi_groups(self, bmi):\n",
    "#         A helper function to group patients by BMI\n",
    "        if bmi < 18.5:\n",
    "            group = 'Underweight'\n",
    "        elif bmi < 25:\n",
    "            group = 'Healthy'\n",
    "        elif bmi < 30:\n",
    "            group = 'Overweight'\n",
    "        else:\n",
    "            group = 'Obese'\n",
    "        \n",
    "        return group\n",
    "        \n",
    "    def bmi_above_median(self):\n",
    "#         Add a column with bmi group using helper function and create new dataframe grouped by bmi group\n",
    "#           and if the charges are above the median\n",
    "        self['bmi_group'] = self.bmi.apply(self.bmi_groups)\n",
    "        bmi_as_factor = self.groupby(['bmi_group', 'above_median']).bmi.count().reset_index(name='count')\n",
    "#         Create pivot table, convert raw counts to percentages, and change column names for readability\n",
    "        bmi_pivot = bmi_as_factor.pivot(columns='above_median', index='bmi_group', values='count').reset_index().fillna(0)\n",
    "        bmi_pivot[False] = round(bmi_pivot[False] / (bmi_pivot[False] + bmi_pivot[True]) * 100, 1)\n",
    "        bmi_pivot[True] = round(100 - bmi_pivot[False], 1)\n",
    "        bmi_pivot[False] = bmi_pivot[False].apply(self.make_percentage)\n",
    "        bmi_pivot[True] = bmi_pivot[True].apply(self.make_percentage)\n",
    "        bmi_pivot.columns = ['Weight Status', ' Below Median', ' Above Median' ]\n",
    "        \n",
    "        print(bmi_pivot.to_string(index=False), end='\\n\\n')\n",
    "        \n",
    "    def children_above_median(self):\n",
    "#         Create new dataframe grouped by number of children and if the charges are above the median\n",
    "        children_as_factor = self.groupby(['children', 'above_median']).children.count().reset_index(name='count')\n",
    "#         Create pivot table, convert raw counts to percentages, and change column names for readability\n",
    "        children_pivot = children_as_factor.pivot(columns='above_median', index='children', values='count').\\\n",
    "                                                  reset_index().fillna(0)\n",
    "        children_pivot[False] = round(children_pivot[False] / (children_pivot[False] + children_pivot[True]) * 100, 1)\n",
    "        children_pivot[True] = round(100 - children_pivot[False], 1)\n",
    "        children_pivot[False] = children_pivot[False].apply(self.make_percentage)\n",
    "        children_pivot[True] = children_pivot[True].apply(self.make_percentage)\n",
    "        children_pivot.columns = ['Number of Children', ' Below Median', ' Above Median' ]\n",
    "        \n",
    "        print(children_pivot.to_string(index=False), end='\\n\\n')\n",
    "        \n",
    "    def smoke_above_median(self):\n",
    "#         Create new dataframe grouped by smoking status and if the charges are above the median\n",
    "        smoke_as_factor = self.groupby(['smoker', 'above_median']).smoker.count().reset_index(name='count')\n",
    "#         Create pivot table, convert raw counts to percentages, and change column names for readability\n",
    "        smoke_pivot = smoke_as_factor.pivot(columns='above_median', index='smoker', values='count').reset_index().fillna(0)\n",
    "        smoke_pivot[False] = round(smoke_pivot[False] / (smoke_pivot[False] + smoke_pivot[True]) * 100, 1)\n",
    "        smoke_pivot[True] = round(100 - smoke_pivot[False], 1)\n",
    "        smoke_pivot[False] = smoke_pivot[False].apply(self.make_percentage)\n",
    "        smoke_pivot[True] = smoke_pivot[True].apply(self.make_percentage)\n",
    "        smoke_pivot['smoker'] = smoke_pivot['smoker'].apply(lambda x: 'Smoker' if x == 'yes' else 'Non-Smoker')\n",
    "        smoke_pivot.columns = ['', ' Below Median', ' Above Median' ]\n",
    "        \n",
    "        print(smoke_pivot.to_string(index=False), end='\\n\\n')\n",
    "        \n",
    "    def cost_factors(self):\n",
    "#         Calculate median charges and add a column to the data that shows if it is over or below the median\n",
    "        median_cost = self.charges.median()\n",
    "        print(f'The median of charges over the whole dataset is ${median_cost:.2f}.\\n')\n",
    "        self['above_median'] = self.charges.apply(lambda x: x > median_cost)\n",
    "#         Run all the functions that compare individual statistics to whether the charges were above the median\n",
    "        self.age_above_median()\n",
    "        self.sex_above_median()\n",
    "        self.bmi_above_median()\n",
    "        self.children_above_median()\n",
    "        self.smoke_above_median()\n",
    "        "
   ]
  },
  {
   "cell_type": "markdown",
   "metadata": {},
   "source": [
    "Now that we have built our class and all class methods, we can try them out. First, we will have to store the data imported from the CSV file into an instance of our new class"
   ]
  },
  {
   "cell_type": "code",
   "execution_count": 4,
   "metadata": {},
   "outputs": [],
   "source": [
    "med_data = MedicalData(data=imported)"
   ]
  },
  {
   "cell_type": "markdown",
   "metadata": {},
   "source": [
    "Our first task is to simply see what the average age of the patients in the data is."
   ]
  },
  {
   "cell_type": "code",
   "execution_count": 5,
   "metadata": {},
   "outputs": [
    {
     "name": "stdout",
     "output_type": "stream",
     "text": [
      "The average age of all patients in the dataset is 39.21.\n",
      "\n"
     ]
    }
   ],
   "source": [
    "med_data.average_age()"
   ]
  },
  {
   "cell_type": "markdown",
   "metadata": {},
   "source": [
    "Next, we can split the data by sex to see if we can spot any trends deoending on if the patient is male or female.\n",
    "\n",
    "It seems that the data is pretty smiliar between males and females, with the one exception being that males pay about $1400 more on average."
   ]
  },
  {
   "cell_type": "code",
   "execution_count": 6,
   "metadata": {},
   "outputs": [
    {
     "name": "stdout",
     "output_type": "stream",
     "text": [
      "The dataset is divided into 50.5% male patients and 49.5% female patients.\n",
      "\n",
      "Average age, BMI, number of children, and insurance charges by sex:\n",
      "\n",
      "Male:\n",
      "Age: 38.92\n",
      "BMI: 30.94\n",
      "Number of Children: 1.12\n",
      "Insurance Charges: $13956.75\n",
      "\n",
      "Female:\n",
      "Age: 39.50\n",
      "BMI: 30.38\n",
      "Number of Children: 1.07\n",
      "Insurance Charges: $12569.58\n",
      "\n"
     ]
    }
   ],
   "source": [
    "med_data.male_female()"
   ]
  },
  {
   "cell_type": "markdown",
   "metadata": {},
   "source": [
    "I was curious to see if the number of children had any correlation to BMI, as lifestyles can be very different for people with children than those without, but the differences are not significant."
   ]
  },
  {
   "cell_type": "code",
   "execution_count": 7,
   "metadata": {},
   "outputs": [
    {
     "name": "stdout",
     "output_type": "stream",
     "text": [
      " No. of Children  Average BMI\n",
      "               0        30.55\n",
      "               1        30.62\n",
      "               2        30.98\n",
      "               3        30.68\n",
      "               4        31.39\n",
      "               5        29.61\n",
      "\n"
     ]
    }
   ],
   "source": [
    "med_data.children_to_bmi()"
   ]
  },
  {
   "cell_type": "markdown",
   "metadata": {},
   "source": [
    "Here we can see that there is a slight difference in the charges depending on the region the patient is from, but this may also be related to other factors such as age and likelihood to be a smoker in different regions."
   ]
  },
  {
   "cell_type": "code",
   "execution_count": 8,
   "metadata": {},
   "outputs": [
    {
     "name": "stdout",
     "output_type": "stream",
     "text": [
      "    Region Average Charges\n",
      " Northeast       $13406.38\n",
      " Northwest       $12417.58\n",
      " Southeast       $14735.41\n",
      " Southwest       $12346.94\n",
      "\n"
     ]
    }
   ],
   "source": [
    "med_data.cost_by_region()"
   ]
  },
  {
   "cell_type": "markdown",
   "metadata": {},
   "source": [
    "This function runs several aggregates to compare how different factors affect whether a patient paid more or less than the median. The biggest factor by far is smoking status. Every single smoker in the data paid over the median, while only 1/3 of the non-smokers did. Another large factor is age, where the percentage of patients paying over median drastically rises after 45, with everyone over 55 paying above median. Sex and number of children did not seem to have any significant impact that can be inferred from this data. The same can be said of BMI with the exception of if the patient is obese, in which case there was a slight increase of patients over the median."
   ]
  },
  {
   "cell_type": "code",
   "execution_count": 9,
   "metadata": {
    "scrolled": true
   },
   "outputs": [
    {
     "name": "stdout",
     "output_type": "stream",
     "text": [
      "The median of charges over the whole dataset is $9382.03.\n",
      "\n",
      "Age Group  Below Median  Above Median\n",
      "  18 - 24         70.5%         29.5%\n",
      "  25 - 34         71.6%         28.4%\n",
      "  35 - 44         71.5%         28.5%\n",
      "  45 - 54         32.4%         67.6%\n",
      "      55+          0.0%        100.0%\n",
      "\n",
      "    Sex  Below Median  Above Median\n",
      " Female         49.8%         50.2%\n",
      "   Male         50.1%         49.9%\n",
      "\n",
      "Weight Status  Below Median  Above Median\n",
      "      Healthy         54.7%         45.3%\n",
      "        Obese         46.3%         53.7%\n",
      "   Overweight         53.9%         46.1%\n",
      "  Underweight         55.0%         45.0%\n",
      "\n",
      " Number of Children  Below Median  Above Median\n",
      "                  0         48.6%         51.4%\n",
      "                  1         56.2%         43.8%\n",
      "                  2         50.4%         49.6%\n",
      "                  3         42.7%         57.3%\n",
      "                  4         32.0%         68.0%\n",
      "                  5         66.7%         33.3%\n",
      "\n",
      "             Below Median  Above Median\n",
      " Non-Smoker         62.9%         37.1%\n",
      "     Smoker          0.0%        100.0%\n",
      "\n"
     ]
    }
   ],
   "source": [
    "med_data.cost_factors()"
   ]
  }
 ],
 "metadata": {
  "kernelspec": {
   "display_name": "Python 3",
   "language": "python",
   "name": "python3"
  },
  "language_info": {
   "codemirror_mode": {
    "name": "ipython",
    "version": 3
   },
   "file_extension": ".py",
   "mimetype": "text/x-python",
   "name": "python",
   "nbconvert_exporter": "python",
   "pygments_lexer": "ipython3",
   "version": "3.8.3"
  }
 },
 "nbformat": 4,
 "nbformat_minor": 4
}
